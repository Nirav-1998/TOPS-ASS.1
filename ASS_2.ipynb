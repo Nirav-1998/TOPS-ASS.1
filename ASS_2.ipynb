{
 "cells": [
  {
   "cell_type": "markdown",
   "id": "8576da15",
   "metadata": {},
   "source": [
    "#Write a Python program to check if a number is positive, negative or zero."
   ]
  },
  {
   "cell_type": "code",
   "execution_count": 69,
   "id": "84371e38",
   "metadata": {},
   "outputs": [
    {
     "name": "stdout",
     "output_type": "stream",
     "text": [
      "enter the number => 4723\n",
      "4723 is Positive number\n"
     ]
    }
   ],
   "source": [
    "a = int(input(\"enter the number => \"))\n",
    "\n",
    "if a>0:\n",
    "    print(a,\"is Positive number\")\n",
    "    \n",
    "elif a<0:\n",
    "    print(a,\"is Negative number\")\n",
    "    \n",
    "else:\n",
    "    print(\"Zero\")"
   ]
  },
  {
   "cell_type": "markdown",
   "id": "22411919",
   "metadata": {},
   "source": [
    "#Write a Python program to get the Factorial number of given number"
   ]
  },
  {
   "cell_type": "code",
   "execution_count": null,
   "id": "fd174460",
   "metadata": {},
   "outputs": [],
   "source": [
    "n = int(input(\"enter the number => \"))\n",
    "\n",
    "for i in range (1, n+1):\n",
    "    if n%i == 0:\n",
    "        print(i)"
   ]
  },
  {
   "cell_type": "markdown",
   "id": "ba7d47c0",
   "metadata": {},
   "source": [
    "#Write a Python program to get the Fibonacci series of given range."
   ]
  },
  {
   "cell_type": "code",
   "execution_count": null,
   "id": "85542379",
   "metadata": {},
   "outputs": [],
   "source": [
    "x,y = 0,1\n",
    "\n",
    "while y<50:\n",
    "    print(y)\n",
    "    x,y = y, x+y"
   ]
  },
  {
   "cell_type": "markdown",
   "id": "2c33bd6e",
   "metadata": {},
   "source": [
    "#What is the purpose continue statement in python?"
   ]
  },
  {
   "cell_type": "code",
   "execution_count": null,
   "id": "81ea05f6",
   "metadata": {},
   "outputs": [],
   "source": [
    "for i in range(10):\n",
    "    if i == 5:\n",
    "        continue\n",
    "    print(i)"
   ]
  },
  {
   "cell_type": "markdown",
   "id": "e5c8d268",
   "metadata": {},
   "source": [
    "#Write a Python program to find whether a given number is even or odd, print out an appropriate message to the user."
   ]
  },
  {
   "cell_type": "code",
   "execution_count": 70,
   "id": "e8571a85",
   "metadata": {},
   "outputs": [
    {
     "name": "stdout",
     "output_type": "stream",
     "text": [
      "enter the number => 9928\n",
      "9928 is even number\n"
     ]
    }
   ],
   "source": [
    "num = int(input(\"enter the number => \"))\n",
    "\n",
    "j = num%2\n",
    "\n",
    "if j > 0:\n",
    "    print(num,\"is odd number\")\n",
    "    \n",
    "else:\n",
    "    print(num,\"is even number\")"
   ]
  },
  {
   "cell_type": "markdown",
   "id": "c530df47",
   "metadata": {},
   "source": [
    "#Write a Python program to test whether a passed letter is a vowel or not."
   ]
  },
  {
   "cell_type": "code",
   "execution_count": 3,
   "id": "e84d5209",
   "metadata": {},
   "outputs": [
    {
     "name": "stdout",
     "output_type": "stream",
     "text": [
      "enter the string value => w\n",
      "w is a consonant\n"
     ]
    }
   ],
   "source": [
    "v = str(input(\"enter the string value => \"))\n",
    "\n",
    "if v in (\"a\",\"e\",\"i\",\"o\",\"u\"):\n",
    "    print(v,\"is a vowel.\")\n",
    "\n",
    "else:\n",
    "    print(v,\"is a consonant\")"
   ]
  },
  {
   "cell_type": "markdown",
   "id": "cf6110c6",
   "metadata": {},
   "source": [
    "#Write a Python program to sum of three given integers. However, if two values are equal sum will be zero."
   ]
  },
  {
   "cell_type": "code",
   "execution_count": 7,
   "id": "ad5789f4",
   "metadata": {},
   "outputs": [
    {
     "name": "stdout",
     "output_type": "stream",
     "text": [
      "0\n",
      "6\n",
      "0\n"
     ]
    }
   ],
   "source": [
    "def sum_a(x,y,z):\n",
    "    if x==y or y==z or x==z:\n",
    "        sum = 0\n",
    "    else:\n",
    "        sum = x+y+z\n",
    "    return sum\n",
    "\n",
    "print(sum_a(2,1,2))\n",
    "print(sum_a(1,2,3))\n",
    "print(sum_a(1,1,1))"
   ]
  },
  {
   "cell_type": "markdown",
   "id": "e1085b95",
   "metadata": {},
   "source": [
    "#Write a python program to sum of the first n positive integers."
   ]
  },
  {
   "cell_type": "code",
   "execution_count": 10,
   "id": "02f95337",
   "metadata": {},
   "outputs": [
    {
     "name": "stdout",
     "output_type": "stream",
     "text": [
      "enter the => 2\n",
      "sum of first 2 positive number: 3.0\n"
     ]
    }
   ],
   "source": [
    "s_1 = int(input(\"enter the => \"))\n",
    "\n",
    "sum_1 = (s_1 *(s_1+1)) / 2\n",
    "print(\"sum of first\",s_1,\"positive number:\",sum_1)"
   ]
  },
  {
   "cell_type": "markdown",
   "id": "1816728c",
   "metadata": {},
   "source": [
    "#Write a Python program to calculate the length of a string. "
   ]
  },
  {
   "cell_type": "code",
   "execution_count": 13,
   "id": "09a51946",
   "metadata": {},
   "outputs": [
    {
     "name": "stdout",
     "output_type": "stream",
     "text": [
      "17\n"
     ]
    }
   ],
   "source": [
    "q = \"good morning guys\"\n",
    "\n",
    "print(len(q))"
   ]
  },
  {
   "cell_type": "markdown",
   "id": "9b7d9493",
   "metadata": {},
   "source": [
    "#Write a Python program to count the number of characters (character frequency) in a string"
   ]
  },
  {
   "cell_type": "code",
   "execution_count": 31,
   "id": "4023680a",
   "metadata": {},
   "outputs": [
    {
     "name": "stdout",
     "output_type": "stream",
     "text": [
      "2\n"
     ]
    }
   ],
   "source": [
    "q_1 = \"hii good morning dev, hello devang\"\n",
    "\n",
    "x_1 = q_1.count(\"dev\")\n",
    "\n",
    "print(x_1)"
   ]
  },
  {
   "cell_type": "markdown",
   "id": "47488a3b",
   "metadata": {},
   "source": [
    "#What are negative indexes and why are they used?"
   ]
  },
  {
   "cell_type": "code",
   "execution_count": 22,
   "id": "0189181c",
   "metadata": {},
   "outputs": [
    {
     "name": "stdout",
     "output_type": "stream",
     "text": [
      "mornin\n"
     ]
    }
   ],
   "source": [
    "ab = \"hello good morning\"\n",
    "\n",
    "print(ab[-7:-1])"
   ]
  },
  {
   "cell_type": "markdown",
   "id": "1a22700d",
   "metadata": {},
   "source": [
    "#Write a Python program to count occurrences of a substring in a string."
   ]
  },
  {
   "cell_type": "code",
   "execution_count": 23,
   "id": "8e689253",
   "metadata": {},
   "outputs": [
    {
     "name": "stdout",
     "output_type": "stream",
     "text": [
      "6\n"
     ]
    }
   ],
   "source": [
    "aaa = \"hello good morning guys, how are you?\"\n",
    "\n",
    "print(aaa.count(\"o\"))"
   ]
  },
  {
   "cell_type": "markdown",
   "id": "5f9f0540",
   "metadata": {},
   "source": [
    "#Write a Python program to count the occurrences of each word in a given sentence"
   ]
  },
  {
   "cell_type": "code",
   "execution_count": 51,
   "id": "947f3b1d",
   "metadata": {},
   "outputs": [
    {
     "name": "stdout",
     "output_type": "stream",
     "text": [
      "2\n"
     ]
    }
   ],
   "source": [
    "cc = \"hii keyur, how are you keyurr?\"\n",
    "\n",
    "d = cc.count(\"keyur\",4,30)\n",
    "print(d)"
   ]
  },
  {
   "cell_type": "markdown",
   "id": "5f1cd751",
   "metadata": {},
   "source": [
    "#Write a Python program to get a single string from two given strings, separated by a space and swap the first two characters of each string."
   ]
  },
  {
   "cell_type": "code",
   "execution_count": 52,
   "id": "b84cb02b",
   "metadata": {},
   "outputs": [
    {
     "name": "stdout",
     "output_type": "stream",
     "text": [
      "enter the first string :> nick\n",
      "enter the second string :> deev\n",
      "your first string =>  deck\n",
      "your second string =>  niev\n"
     ]
    }
   ],
   "source": [
    "str_1 = str(input(\"enter the first string :> \"))\n",
    "str_2 = str(input(\"enter the second string :> \"))\n",
    "\n",
    "s = str_1[0:2]\n",
    "\n",
    "str_1 = str_1.replace(str_1[0:2],str_2[0:2])\n",
    "str_2 = str_2.replace(str_2[0:2],s)\n",
    "\n",
    "print(\"your first string => \", str_1)\n",
    "print(\"your second string => \", str_2)\n",
    "\n"
   ]
  },
  {
   "cell_type": "markdown",
   "id": "53e54e83",
   "metadata": {},
   "source": [
    "#Write a Python program to add 'ing' at the end of a given string (length should be at least 3). If the given string already ends with 'ing' then add 'ly' instead if the string length of the given string is less than 3, leave it unchanged."
   ]
  },
  {
   "cell_type": "code",
   "execution_count": 59,
   "id": "85526f80",
   "metadata": {},
   "outputs": [
    {
     "name": "stdout",
     "output_type": "stream",
     "text": [
      "ab\n",
      "abcing\n",
      "stringly\n"
     ]
    }
   ],
   "source": [
    "def add_string(str1):\n",
    "    length = len(str1)\n",
    "\n",
    "  \n",
    "    if length > 2:\n",
    "        if str1[-3:] == 'ing':\n",
    "            str1 += 'ly'\n",
    "        else:\n",
    "            str1 += 'ing'\n",
    "\n",
    "    return str1\n",
    "print(add_string('ab'))\n",
    "print(add_string('abc'))\n",
    "print(add_string('string'))"
   ]
  },
  {
   "cell_type": "markdown",
   "id": "336bcf79",
   "metadata": {},
   "source": [
    "#Write a Python program to find the first appearance of the substring 'not' and 'poor' from a given string, if 'not' follows the 'poor', replace the whole 'not'...'poor' substring with 'good'. Return the resulting string. "
   ]
  },
  {
   "cell_type": "code",
   "execution_count": 65,
   "id": "19f41fb7",
   "metadata": {},
   "outputs": [
    {
     "name": "stdout",
     "output_type": "stream",
     "text": [
      "The lyrics is good!\n"
     ]
    }
   ],
   "source": [
    "def not_poor(str1):\n",
    "    snot = str1.find('not')  \n",
    "    sbad = str1.find('poor')  \n",
    "  \n",
    "    if sbad > snot:\n",
    "        str1 = str1.replace(str1[snot:(sbad+4)], 'good')  \n",
    "  \n",
    "    return str1  \n",
    "print(not_poor('The lyrics is not that poor!'))  \n",
    "  "
   ]
  },
  {
   "cell_type": "markdown",
   "id": "d549b1fe",
   "metadata": {},
   "source": [
    "#Write a Python function that takes a list of words and returns the length of the longest one."
   ]
  },
  {
   "cell_type": "code",
   "execution_count": 67,
   "id": "637e79e0",
   "metadata": {},
   "outputs": [
    {
     "name": "stdout",
     "output_type": "stream",
     "text": [
      "longets word :  Javascript\n",
      "Length of the longest word :  10\n"
     ]
    }
   ],
   "source": [
    "def longest_word(words_list):\n",
    "    word_len = []\n",
    "    for n in words_list:\n",
    "        word_len.append((len(n),n))\n",
    "    word_len.sort()\n",
    "    return word_len[-1][0], word_len[-1][1]\n",
    "result = longest_word([\"java\",\"PHP\",\"Python\",\"Javascript\"])\n",
    "\n",
    "print(\"longets word : \", result[1])\n",
    "print(\"Length of the longest word : \", result[0])"
   ]
  },
  {
   "cell_type": "markdown",
   "id": "b41f50c1",
   "metadata": {},
   "source": [
    "#Write a Python function to reverses a string if its length is a multiple of 4."
   ]
  },
  {
   "cell_type": "code",
   "execution_count": 68,
   "id": "cd2121be",
   "metadata": {},
   "outputs": [
    {
     "name": "stdout",
     "output_type": "stream",
     "text": [
      "DCBA\n",
      "ABCDEFG\n"
     ]
    }
   ],
   "source": [
    "def reverse_string(strr):\n",
    "    if len(strr) % 4 == 0:\n",
    "        return ''.join(reversed(strr))\n",
    "    return strr\n",
    "print(reverse_string(\"ABCD\"))\n",
    "print(reverse_string(\"ABCDEFG\"))"
   ]
  },
  {
   "cell_type": "markdown",
   "id": "f48f1168",
   "metadata": {},
   "source": [
    "###Write a Python program to get a string made of the first 2 and the last 2 chars from a given a string. If the string length is less than 2, return instead of the empty string."
   ]
  },
  {
   "cell_type": "code",
   "execution_count": 91,
   "id": "04197501",
   "metadata": {},
   "outputs": [
    {
     "name": "stdout",
     "output_type": "stream",
     "text": [
      "Helo\n",
      "\n",
      "mong\n"
     ]
    }
   ],
   "source": [
    "def string_ends(str):\n",
    "    if len(str) < 2:\n",
    "        return ''\n",
    "\n",
    "    return str[0:2] + str[-2:]\n",
    "\n",
    "print(string_ends('Hello'))\n",
    "print(string_ends('H'))#empty string.\n",
    "print(string_ends('morning'))\n"
   ]
  },
  {
   "cell_type": "markdown",
   "id": "51506519",
   "metadata": {},
   "source": [
    "###Write a Python function to insert a string in the middle of a string."
   ]
  },
  {
   "cell_type": "code",
   "execution_count": 87,
   "id": "5850641d",
   "metadata": {},
   "outputs": [
    {
     "data": {
      "text/plain": [
       "['Hello', 'Good', 'Morning']"
      ]
     },
     "execution_count": 87,
     "metadata": {},
     "output_type": "execute_result"
    }
   ],
   "source": [
    "str1 = [\"Hello\",\"Morning\"]\n",
    "str1.insert(1,\"Good\")\n",
    "str1"
   ]
  },
  {
   "cell_type": "code",
   "execution_count": null,
   "id": "17bf9b7b",
   "metadata": {},
   "outputs": [],
   "source": []
  }
 ],
 "metadata": {
  "kernelspec": {
   "display_name": "Python 3 (ipykernel)",
   "language": "python",
   "name": "python3"
  },
  "language_info": {
   "codemirror_mode": {
    "name": "ipython",
    "version": 3
   },
   "file_extension": ".py",
   "mimetype": "text/x-python",
   "name": "python",
   "nbconvert_exporter": "python",
   "pygments_lexer": "ipython3",
   "version": "3.9.13"
  }
 },
 "nbformat": 4,
 "nbformat_minor": 5
}
